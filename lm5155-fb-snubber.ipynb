{
 "cells": [
  {
   "cell_type": "code",
   "execution_count": 74,
   "metadata": {},
   "outputs": [
    {
     "name": "stdout",
     "output_type": "stream",
     "text": [
      "20.1180742776178\n",
      "-1515151.5151515144\n"
     ]
    }
   ],
   "source": [
    "import numpy as np\n",
    "import control as co\n",
    "\n",
    "n = 10\n",
    "D = 0.7727\n",
    "i_o = 30e-3\n",
    "i_0 = i_o / (1 - D) * n\n",
    "V_in, V_o, n = 5, 170, 10\n",
    "L, R, C  = 0.250e-6, 100, 3300e-12\n",
    "\n",
    "eq = co.tf([1], [L * C, L / R, 1])\n",
    "poles = eq.poles()\n",
    "\n",
    "alpha = poles[0].real\n",
    "beta = np.abs(poles[0].imag)\n",
    "a = -V_o / n\n",
    "b = i_0 / (beta * C) + alpha * V_o / (beta * n)\n",
    "\n",
    "print(np.sqrt(a ** 2 + b ** 2))\n",
    "print(alpha)"
   ]
  },
  {
   "cell_type": "code",
   "execution_count": null,
   "metadata": {},
   "outputs": [],
   "source": []
  }
 ],
 "metadata": {
  "kernelspec": {
   "display_name": "base",
   "language": "python",
   "name": "python3"
  },
  "language_info": {
   "codemirror_mode": {
    "name": "ipython",
    "version": 3
   },
   "file_extension": ".py",
   "mimetype": "text/x-python",
   "name": "python",
   "nbconvert_exporter": "python",
   "pygments_lexer": "ipython3",
   "version": "3.11.7"
  }
 },
 "nbformat": 4,
 "nbformat_minor": 2
}
